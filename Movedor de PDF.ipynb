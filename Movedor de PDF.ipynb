{
 "cells": [
  {
   "cell_type": "code",
   "execution_count": 1,
   "id": "fe20c4bd-74c3-4242-b0c6-84ff98a4ae94",
   "metadata": {},
   "outputs": [
    {
     "name": "stdout",
     "output_type": "stream",
     "text": [
      "Requirement already satisfied: pdfplumber in c:\\users\\risnard\\appdata\\local\\anaconda3\\lib\\site-packages (0.11.4)\n",
      "Requirement already satisfied: pandas in c:\\users\\risnard\\appdata\\local\\anaconda3\\lib\\site-packages (2.2.2)\n",
      "Requirement already satisfied: openpyxl in c:\\users\\risnard\\appdata\\local\\anaconda3\\lib\\site-packages (3.1.5)\n",
      "Collecting pymupdf\n",
      "  Downloading pymupdf-1.25.0-cp39-abi3-win_amd64.whl.metadata (3.4 kB)\n",
      "Requirement already satisfied: pdfminer.six==20231228 in c:\\users\\risnard\\appdata\\local\\anaconda3\\lib\\site-packages (from pdfplumber) (20231228)\n",
      "Requirement already satisfied: Pillow>=9.1 in c:\\users\\risnard\\appdata\\local\\anaconda3\\lib\\site-packages (from pdfplumber) (10.4.0)\n",
      "Requirement already satisfied: pypdfium2>=4.18.0 in c:\\users\\risnard\\appdata\\local\\anaconda3\\lib\\site-packages (from pdfplumber) (4.30.0)\n",
      "Requirement already satisfied: charset-normalizer>=2.0.0 in c:\\users\\risnard\\appdata\\local\\anaconda3\\lib\\site-packages (from pdfminer.six==20231228->pdfplumber) (3.3.2)\n",
      "Requirement already satisfied: cryptography>=36.0.0 in c:\\users\\risnard\\appdata\\local\\anaconda3\\lib\\site-packages (from pdfminer.six==20231228->pdfplumber) (43.0.0)\n",
      "Requirement already satisfied: numpy>=1.26.0 in c:\\users\\risnard\\appdata\\local\\anaconda3\\lib\\site-packages (from pandas) (1.26.4)\n",
      "Requirement already satisfied: python-dateutil>=2.8.2 in c:\\users\\risnard\\appdata\\local\\anaconda3\\lib\\site-packages (from pandas) (2.9.0.post0)\n",
      "Requirement already satisfied: pytz>=2020.1 in c:\\users\\risnard\\appdata\\local\\anaconda3\\lib\\site-packages (from pandas) (2024.1)\n",
      "Requirement already satisfied: tzdata>=2022.7 in c:\\users\\risnard\\appdata\\local\\anaconda3\\lib\\site-packages (from pandas) (2023.3)\n",
      "Requirement already satisfied: et-xmlfile in c:\\users\\risnard\\appdata\\local\\anaconda3\\lib\\site-packages (from openpyxl) (1.1.0)\n",
      "Requirement already satisfied: six>=1.5 in c:\\users\\risnard\\appdata\\local\\anaconda3\\lib\\site-packages (from python-dateutil>=2.8.2->pandas) (1.16.0)\n",
      "Requirement already satisfied: cffi>=1.12 in c:\\users\\risnard\\appdata\\local\\anaconda3\\lib\\site-packages (from cryptography>=36.0.0->pdfminer.six==20231228->pdfplumber) (1.17.1)\n",
      "Requirement already satisfied: pycparser in c:\\users\\risnard\\appdata\\local\\anaconda3\\lib\\site-packages (from cffi>=1.12->cryptography>=36.0.0->pdfminer.six==20231228->pdfplumber) (2.21)\n",
      "Downloading pymupdf-1.25.0-cp39-abi3-win_amd64.whl (16.6 MB)\n",
      "   ---------------------------------------- 0.0/16.6 MB ? eta -:--:--\n",
      "   ----- ---------------------------------- 2.1/16.6 MB 11.7 MB/s eta 0:00:02\n",
      "   ---------- ----------------------------- 4.5/16.6 MB 10.7 MB/s eta 0:00:02\n",
      "   ---------------- ----------------------- 6.8/16.6 MB 11.0 MB/s eta 0:00:01\n",
      "   -------------------- ------------------- 8.7/16.6 MB 10.5 MB/s eta 0:00:01\n",
      "   --------------------------- ------------ 11.3/16.6 MB 11.0 MB/s eta 0:00:01\n",
      "   --------------------------------- ------ 13.9/16.6 MB 11.2 MB/s eta 0:00:01\n",
      "   ---------------------------------------  16.3/16.6 MB 11.2 MB/s eta 0:00:01\n",
      "   ---------------------------------------- 16.6/16.6 MB 11.0 MB/s eta 0:00:00\n",
      "Installing collected packages: pymupdf\n",
      "Successfully installed pymupdf-1.25.0\n",
      "Note: you may need to restart the kernel to use updated packages.\n"
     ]
    }
   ],
   "source": [
    "pip install pdfplumber pandas openpyxl pymupdf"
   ]
  },
  {
   "cell_type": "code",
   "execution_count": 4,
   "id": "071322d4-21e8-4467-b8a7-2baa34698bc5",
   "metadata": {},
   "outputs": [
    {
     "name": "stdout",
     "output_type": "stream",
     "text": [
      "\n",
      "--- Relatório Final ---\n",
      "Total de arquivos movidos: 0\n",
      "Total de arquivos ignorados (já existentes): 0\n",
      "\n",
      "Nenhum erro encontrado.\n",
      "Processamento concluído.\n"
     ]
    }
   ],
   "source": [
    "import os\n",
    "import shutil\n",
    "import fitz\n",
    "\n",
    "# Caminho para o diretório raiz onde estão as pastas\n",
    "root_directory = r\"\\\\10.113.50.2\\Propostas\\Propostas\\Avaliação\"\n",
    "\n",
    "# Caminho para a pasta onde os arquivos PDF serão centralizados\n",
    "destination_directory = r\"C:\\Users\\risnard\\Desktop\\Teste_PDF_Miner\\Propostas\"\n",
    "\n",
    "# Certifique-se de que a pasta de destino existe\n",
    "os.makedirs(destination_directory, exist_ok=True)\n",
    "\n",
    "# Variáveis para contagem e logs\n",
    "moved_files_count = 0\n",
    "ignored_files_count = 0\n",
    "error_logs = []\n",
    "\n",
    "# Buscar arquivos PDF e movê-los para a pasta centralizada\n",
    "for root, dirs, files in os.walk(root_directory):\n",
    "    for file in files:\n",
    "        if file.lower().endswith(\".pdf\"):  # Filtrar apenas arquivos PDF\n",
    "            source_file = os.path.join(root, file)\n",
    "            destination_file = os.path.join(destination_directory, file)\n",
    "\n",
    "            try:\n",
    "                # Verificar se o arquivo já existe na pasta de destino\n",
    "                if os.path.exists(destination_file):\n",
    "                    ignored_files_count += 1\n",
    "                    print(f\"Ignorado (já existe): {destination_file}\")\n",
    "                    continue\n",
    "\n",
    "                # Mover o arquivo para a pasta de destino\n",
    "                shutil.copy(source_file, destination_file)\n",
    "                moved_files_count += 1\n",
    "                print(f\"Movido: {source_file} -> {destination_file}\")\n",
    "\n",
    "            except Exception as e:\n",
    "                error_logs.append(f\"Erro ao mover {source_file}: {e}\")\n",
    "                print(f\"Erro ao mover {source_file}: {e}\")\n",
    "\n",
    "# Relatório final\n",
    "print(\"\\n--- Relatório Final ---\")\n",
    "print(f\"Total de arquivos movidos: {moved_files_count}\")\n",
    "print(f\"Total de arquivos ignorados (já existentes): {ignored_files_count}\")\n",
    "\n",
    "if error_logs:\n",
    "    print(f\"\\nTotal de erros: {len(error_logs)}\")\n",
    "    for error in error_logs:\n",
    "        print(error)\n",
    "else:\n",
    "    print(\"\\nNenhum erro encontrado.\")\n",
    "\n",
    "print(\"Processamento concluído.\")"
   ]
  },
  {
   "cell_type": "code",
   "execution_count": null,
   "id": "d8187301-4e0d-4706-9639-04b9a6680f88",
   "metadata": {},
   "outputs": [],
   "source": []
  }
 ],
 "metadata": {
  "kernelspec": {
   "display_name": "Python 3 (ipykernel)",
   "language": "python",
   "name": "python3"
  },
  "language_info": {
   "codemirror_mode": {
    "name": "ipython",
    "version": 3
   },
   "file_extension": ".py",
   "mimetype": "text/x-python",
   "name": "python",
   "nbconvert_exporter": "python",
   "pygments_lexer": "ipython3",
   "version": "3.12.7"
  }
 },
 "nbformat": 4,
 "nbformat_minor": 5
}
